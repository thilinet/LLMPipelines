{
 "cells": [
  {
   "cell_type": "markdown",
   "id": "8dcf2da7-7bc4-4e8b-adf7-d1768ef57e40",
   "metadata": {},
   "source": [
    "## Create a sample database\n",
    "\n",
    "The schema was borrowed from this medium article https://medium.com/snowflake/a-sales-assistant-powered-by-a-react-agent-and-llama-2-on-snowflake-95f6331d43db."
   ]
  },
  {
   "cell_type": "code",
   "execution_count": 9,
   "id": "d4c93dbc-b164-47a1-8d70-c34239ec083e",
   "metadata": {},
   "outputs": [],
   "source": [
    "database_schema = \"\"\"\n",
    "\n",
    "DROP TABLE IF EXISTS PRODUCTS;\n",
    "CREATE TABLE PRODUCTS (\n",
    "    SKU INT,\n",
    "    DESCRIPTION STRING\n",
    ");\n",
    "DROP TABLE IF EXISTS INVENTORY;\n",
    "CREATE TABLE INVENTORY (\n",
    "    SKU INT,\n",
    "    QUANTITY INT,\n",
    "    WAREHOUSE STRING\n",
    ");\n",
    "\n",
    "INSERT INTO PRODUCTS(SKU,DESCRIPTION) VALUES (100,'short sleeve cotton shirt blue');\n",
    "INSERT INTO PRODUCTS(SKU,DESCRIPTION) VALUES (200,'long sleeve flanelle shirt red');\n",
    "INSERT INTO PRODUCTS(SKU,DESCRIPTION) VALUES (300, 'Black Running Shoes size 11');\n",
    "INSERT INTO PRODUCTS(SKU,DESCRIPTION) VALUES (400, 'Sweat Pants Grey Men');\n",
    "INSERT INTO PRODUCTS(SKU,DESCRIPTION) VALUES (500, 'Crop top green Women');\n",
    "INSERT INTO PRODUCTS(SKU,DESCRIPTION) VALUES (600, 'Long Skirt Blue');\n",
    "INSERT INTO PRODUCTS(SKU,DESCRIPTION) VALUES (700, 'Summer hat kids Orange');\n",
    "INSERT INTO PRODUCTS(SKU,DESCRIPTION) VALUES (800, 'Sunglasses Unisex black');\n",
    "INSERT INTO PRODUCTS(SKU,DESCRIPTION) VALUES (900, 'Jeans Black');\n",
    "INSERT INTO PRODUCTS(SKU,DESCRIPTION) VALUES (1000, 'Kaki cotton pants summer women');\n",
    "\n",
    "INSERT INTO INVENTORY VALUES (100, 154,'New York');\n",
    "INSERT INTO INVENTORY VALUES (200, 245, 'Seattle');\n",
    "INSERT INTO INVENTORY VALUES (300, 364, 'San Francisco');\n",
    "INSERT INTO INVENTORY VALUES (400, 421, 'New York');\n",
    "INSERT INTO INVENTORY VALUES (500, 532, 'Seattle');\n",
    "INSERT INTO INVENTORY VALUES (600, 678, 'New York');\n",
    "INSERT INTO INVENTORY VALUES (700, 741, 'San Francisco');\n",
    "INSERT INTO INVENTORY VALUES (800, 845, 'New York');\n",
    "INSERT INTO INVENTORY VALUES (900, 987, 'Seattle');\n",
    "INSERT INTO INVENTORY VALUES (1000, 149, 'San Francisco');\n",
    "\"\"\""
   ]
  },
  {
   "cell_type": "code",
   "execution_count": 10,
   "id": "a901711b-e8ca-4c1a-b76c-17ecf2172e40",
   "metadata": {},
   "outputs": [
    {
     "name": "stdout",
     "output_type": "stream",
     "text": [
      "[(100, 154, 'New York'), (200, 245, 'Seattle'), (300, 364, 'San Francisco'), (400, 421, 'New York'), (500, 532, 'Seattle'), (600, 678, 'New York'), (700, 741, 'San Francisco'), (800, 845, 'New York'), (900, 987, 'Seattle'), (1000, 149, 'San Francisco')]\n",
      "[('PRODUCTS',), ('INVENTORY',)]\n"
     ]
    }
   ],
   "source": [
    "import sqlite3\n",
    "\n",
    "connection_obj = sqlite3.connect('inventory.db')\n",
    "# cursor object\n",
    "cursor_obj = connection_obj.cursor()\n",
    "cursor_obj.executescript(database_schema)\n",
    "# Test inserted records\n",
    "cursor_obj.execute(\"SELECT * from INVENTORY\") \n",
    "# fetch all the data \n",
    "print(cursor_obj.fetchall())\n",
    "# Another query\n",
    "cursor_obj.execute(\"SELECT name FROM sqlite_master WHERE type='table';\")\n",
    "print(cursor_obj.fetchall())\n",
    "connection_obj.close()"
   ]
  },
  {
   "cell_type": "code",
   "execution_count": 12,
   "id": "5bd2d825-68ac-41dc-beeb-892292741548",
   "metadata": {},
   "outputs": [
    {
     "name": "stdout",
     "output_type": "stream",
     "text": [
      "\n",
      "        Table names and their columns are listed below \n",
      "\n",
      "        1\n",
      "Table name:PRODUCTS \n",
      "\t1 SKU \n",
      "\t2 DESCRIPTION \n",
      "2\n",
      "Table name:INVENTORY \n",
      "\t1 SKU \n",
      "\t2 QUANTITY \n",
      "\t3 WAREHOUSE \n",
      "\n"
     ]
    }
   ],
   "source": [
    "import os\n",
    "\n",
    "class DBTool():\n",
    "    \n",
    "    def __init__(self, database):\n",
    "        \n",
    "        if not os.path.isfile(database):\n",
    "            print(\"Database does not exist\")\n",
    "            raise ValueError(\"Database does not exist\")\n",
    "        try:\n",
    "            self.connection = sqlite3.connect(database)\n",
    "            self.cursor = self.connection.cursor()\n",
    "        except:\n",
    "           print(f\"Unable to open{database}\") \n",
    "           raise ValueError(f\"unable to open {database}\")\n",
    "\n",
    "        \n",
    "        self.table_cols   = {}\n",
    "        self.__get_tbls()\n",
    "        self.__get_cols()\n",
    "        self.connection.close()\n",
    "    \n",
    "    def get_string_signature(self):\n",
    "        return_string = \"\"\"\n",
    "        Table names and their columns are listed below \\n\n",
    "        \"\"\"\n",
    "        \n",
    "        table_count = 1\n",
    "        for table, columns in self.table_cols.items():\n",
    "            return_string+= str(table_count) + \"\\n\"\n",
    "            return_string+= f\"Table name:{table} \\n\"\n",
    "            for idx, col_name in enumerate(columns):\n",
    "                return_string+=\"\\t\" + str(idx+1) + f\" {col_name} \\n\"\n",
    "            table_count+=1\n",
    "        \n",
    "        return return_string\n",
    "            \n",
    "    \n",
    "    def __get_tbls(self):\n",
    "        self.cursor.execute(\"SELECT name FROM sqlite_master WHERE type='table';\")\n",
    "        tables = self.cursor.fetchall()\n",
    "        for (table,) in tables:\n",
    "            self.table_cols[table] = []\n",
    "    \n",
    "    def __get_cols(self):\n",
    "        for table in self.table_cols.keys():\n",
    "            columns = self.cursor.execute(f\"PRAGMA table_info({table})\")\n",
    "            for column in columns:\n",
    "                self.table_cols[table].append(column[1])\n",
    "\n",
    "\n",
    "db_tool = DBTool(\"inventory.db\")\n",
    "table_schema = db_tool.get_string_signature()\n",
    "print(table_schema)"
   ]
  },
  {
   "cell_type": "code",
   "execution_count": null,
   "id": "46f3cc91-5808-4c2e-a615-59449244b4a7",
   "metadata": {},
   "outputs": [],
   "source": []
  }
 ],
 "metadata": {
  "kernelspec": {
   "display_name": "Python 3",
   "language": "python",
   "name": "python3"
  },
  "language_info": {
   "codemirror_mode": {
    "name": "ipython",
    "version": 3
   },
   "file_extension": ".py",
   "mimetype": "text/x-python",
   "name": "python",
   "nbconvert_exporter": "python",
   "pygments_lexer": "ipython3",
   "version": "3.10.10"
  }
 },
 "nbformat": 4,
 "nbformat_minor": 5
}
